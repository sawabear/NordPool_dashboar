{
 "cells": [
  {
   "cell_type": "code",
   "execution_count": 1,
   "metadata": {},
   "outputs": [],
   "source": [
    "import urllib\n",
    "import pandas as pd\n",
    "import os\n",
    "import numpy as np\n",
    "import datetime as dt\n",
    "from tqdm.contrib.concurrent import process_map\n",
    "import requests\n",
    "import pickle\n",
    "\n",
    "l_day = dt.datetime.now()-dt.timedelta(2);\n",
    "path_korn = '/mnt/Z/УБПиАЭ/ОАиП/Оперативная работа/Nord Pool/Dash_daily and other'; #путь для загрузки файлов с последующим удалением"
   ]
  },
  {
   "cell_type": "markdown",
   "metadata": {},
   "source": [
    "## 1. Получим данные по ожидаемым ценам на ЭЭ на NordPool"
   ]
  },
  {
   "cell_type": "code",
   "execution_count": 2,
   "metadata": {},
   "outputs": [
    {
     "data": {
      "text/html": [
       "<div>\n",
       "<style scoped>\n",
       "    .dataframe tbody tr th:only-of-type {\n",
       "        vertical-align: middle;\n",
       "    }\n",
       "\n",
       "    .dataframe tbody tr th {\n",
       "        vertical-align: top;\n",
       "    }\n",
       "\n",
       "    .dataframe thead th {\n",
       "        text-align: right;\n",
       "    }\n",
       "</style>\n",
       "<table border=\"1\" class=\"dataframe\">\n",
       "  <thead>\n",
       "    <tr style=\"text-align: right;\">\n",
       "      <th></th>\n",
       "      <th>Nasdaq</th>\n",
       "    </tr>\n",
       "    <tr>\n",
       "      <th>Дата</th>\n",
       "      <th></th>\n",
       "    </tr>\n",
       "  </thead>\n",
       "  <tbody>\n",
       "    <tr>\n",
       "      <th>2022-05-01</th>\n",
       "      <td>114.1750</td>\n",
       "    </tr>\n",
       "    <tr>\n",
       "      <th>2022-06-01</th>\n",
       "      <td>84.9125</td>\n",
       "    </tr>\n",
       "    <tr>\n",
       "      <th>2022-07-01</th>\n",
       "      <td>77.1750</td>\n",
       "    </tr>\n",
       "    <tr>\n",
       "      <th>2022-08-01</th>\n",
       "      <td>86.9575</td>\n",
       "    </tr>\n",
       "    <tr>\n",
       "      <th>2022-09-01</th>\n",
       "      <td>104.1250</td>\n",
       "    </tr>\n",
       "    <tr>\n",
       "      <th>2022-10-01</th>\n",
       "      <td>101.8125</td>\n",
       "    </tr>\n",
       "    <tr>\n",
       "      <th>2022-11-01</th>\n",
       "      <td>118.2500</td>\n",
       "    </tr>\n",
       "  </tbody>\n",
       "</table>\n",
       "</div>"
      ],
      "text/plain": [
       "              Nasdaq\n",
       "Дата                \n",
       "2022-05-01  114.1750\n",
       "2022-06-01   84.9125\n",
       "2022-07-01   77.1750\n",
       "2022-08-01   86.9575\n",
       "2022-09-01  104.1250\n",
       "2022-10-01  101.8125\n",
       "2022-11-01  118.2500"
      ]
     },
     "metadata": {},
     "output_type": "display_data"
    },
    {
     "data": {
      "text/html": [
       "<div>\n",
       "<style scoped>\n",
       "    .dataframe tbody tr th:only-of-type {\n",
       "        vertical-align: middle;\n",
       "    }\n",
       "\n",
       "    .dataframe tbody tr th {\n",
       "        vertical-align: top;\n",
       "    }\n",
       "\n",
       "    .dataframe thead th {\n",
       "        text-align: right;\n",
       "    }\n",
       "</style>\n",
       "<table border=\"1\" class=\"dataframe\">\n",
       "  <thead>\n",
       "    <tr style=\"text-align: right;\">\n",
       "      <th></th>\n",
       "      <th>Nasdaq</th>\n",
       "    </tr>\n",
       "    <tr>\n",
       "      <th>Дата</th>\n",
       "      <th></th>\n",
       "    </tr>\n",
       "  </thead>\n",
       "  <tbody>\n",
       "    <tr>\n",
       "      <th>2022-05-01</th>\n",
       "      <td>114.175</td>\n",
       "    </tr>\n",
       "    <tr>\n",
       "      <th>2022-05-02</th>\n",
       "      <td>114.175</td>\n",
       "    </tr>\n",
       "    <tr>\n",
       "      <th>2022-05-03</th>\n",
       "      <td>114.175</td>\n",
       "    </tr>\n",
       "    <tr>\n",
       "      <th>2022-05-04</th>\n",
       "      <td>114.175</td>\n",
       "    </tr>\n",
       "    <tr>\n",
       "      <th>2022-05-05</th>\n",
       "      <td>114.175</td>\n",
       "    </tr>\n",
       "    <tr>\n",
       "      <th>...</th>\n",
       "      <td>...</td>\n",
       "    </tr>\n",
       "    <tr>\n",
       "      <th>2022-11-25</th>\n",
       "      <td>118.250</td>\n",
       "    </tr>\n",
       "    <tr>\n",
       "      <th>2022-11-26</th>\n",
       "      <td>118.250</td>\n",
       "    </tr>\n",
       "    <tr>\n",
       "      <th>2022-11-27</th>\n",
       "      <td>118.250</td>\n",
       "    </tr>\n",
       "    <tr>\n",
       "      <th>2022-11-28</th>\n",
       "      <td>118.250</td>\n",
       "    </tr>\n",
       "    <tr>\n",
       "      <th>2022-11-29</th>\n",
       "      <td>118.250</td>\n",
       "    </tr>\n",
       "  </tbody>\n",
       "</table>\n",
       "<p>213 rows × 1 columns</p>\n",
       "</div>"
      ],
      "text/plain": [
       "             Nasdaq\n",
       "Дата               \n",
       "2022-05-01  114.175\n",
       "2022-05-02  114.175\n",
       "2022-05-03  114.175\n",
       "2022-05-04  114.175\n",
       "2022-05-05  114.175\n",
       "...             ...\n",
       "2022-11-25  118.250\n",
       "2022-11-26  118.250\n",
       "2022-11-27  118.250\n",
       "2022-11-28  118.250\n",
       "2022-11-29  118.250\n",
       "\n",
       "[213 rows x 1 columns]"
      ]
     },
     "metadata": {},
     "output_type": "display_data"
    }
   ],
   "source": [
    "#Ссылка на сайт Nasdaq\n",
    "link_nasdaq = \"http://www.nasdaqomx.com/webproxy/DataFeedProxyIRC1.aspx\";\n",
    "\n",
    "#Что-то важное для запроса\n",
    "part_change = \"\"\"<param name=\"XPath\" value=\"//inst[@tp='F']\n",
    "[@upc &gt; 170][@upc &lt; 749][number(translate(@dft,'-',''))\n",
    "&lt;= '\"\"\" + dt.datetime.now().strftime(\"%Y%m%d\") + \"\"\"' or @dft = '']\"/>\"\"\"\n",
    "\n",
    "#Запрос в Nasdaq\n",
    "def post_nasdaq():\n",
    "    return \"\"\"<post>\n",
    "    <param name=\"Exchange\" value=\"NMF\"/>\n",
    "    <param name=\"SubSystem\" value=\"Prices\"/>\n",
    "    <param name=\"Action\" value=\"GetMarket\"/>\n",
    "    <param name=\"Market\" value=\"GITS:NC:ENO\"/>\n",
    "    <param name=\"inst__an\" value=\"id,tp,nm,fnm,bp,ap,lsp,spch,spchp,hp,lp,tv,rq,onexv,stlpr,oi,upc,t,exfdt,dlt,dft,tb\"/>\n",
    "    <param name=\"ext_xslt\" value=\"nordpool-v2/inst_table_test_latest.xsl\"/>\n",
    "    <param name=\"empdata\" value=\"false\"/>\n",
    "    \"\"\" + part_change + \"\"\"\n",
    "    <param name=\"ext_xslt_options\" value=\"\"/>\n",
    "    <param name=\"ext_xslt_notlabel\" value=\"fnm\"/>\n",
    "    <param name=\"ext_xslt_hiddenattrs\" value=\",not,lnot,isp,isc,exfdt,dlt,tp,dft,tb,\"/>\n",
    "    <param name=\"ext_xslt_lang\" value=\"en\"/>\n",
    "    <param name=\"ext_xslt_tableId\" value=\"derivatesNordicTable\"/>\n",
    "    <param name=\"ext_xslt_tableClass\" value=\"tablesorter\"/>\n",
    "    <param name=\"ext_xslt_market\" value=\"GITS:NC:ENO\"/>\n",
    "    <param name=\"app\" value=\"www.nasdaqomx.com//transactions/markets/commodities/market-prices\"/>\n",
    "    </post>\"\"\"\n",
    "    \n",
    "#Загрузим данные в фрейм\n",
    "nasdaq_futures = pd.DataFrame();\n",
    "\n",
    "responce = requests.post(link_nasdaq,\n",
    "                        data={'xmlquery': post_nasdaq()},\n",
    "                        headers={'referer': 'http://www.nasdaqomx.com/'}\n",
    "                        );\n",
    "nasdaq_futures = pd.read_html(responce.text)[0];\n",
    "    \n",
    "#Форматируем фрейм\n",
    "nasdaq_futures = nasdaq_futures.loc[nasdaq_futures.loc[:,\"Product series\"].str.contains(\"ENOAFUTBLM\")];\n",
    "nasdaq_futures = nasdaq_futures.loc[:, [\"Product series\", \"Bid\", \"Ask\", \"Last\", \"Daily Fix\"]];\n",
    "nasdaq_futures.loc[:, 'Nasdaq'] = nasdaq_futures[nasdaq_futures.columns[1:]].mean(1);\n",
    "nasdaq_futures = nasdaq_futures.loc[:, (\"Product series\", 'Nasdaq')];\n",
    "nasdaq_futures.loc[:, \"Product series\"] = nasdaq_futures.loc[:, \"Product series\"].str[10:];\n",
    "\n",
    "#Переведем дату в формат ГГГГ-ММ-ДД\n",
    "format_date = lambda x: dt.datetime.strptime(x, \"%b-%y\");\n",
    "nasdaq_futures.loc[:, \"Product series\"] = nasdaq_futures['Product series'].map(format_date);\n",
    "\n",
    "nasdaq_futures = nasdaq_futures.set_index(\"Product series\");\n",
    "nasdaq_futures.index.name = 'Дата';\n",
    "\n",
    "nasdaq_day = pd.DataFrame(index=pd.date_range(nasdaq_futures.index.min(), nasdaq_futures.index.max()+dt.timedelta(days=28), freq='D'));\n",
    "nasdaq_day.index.name = 'Дата';\n",
    "nasdaq_day = nasdaq_day.join(nasdaq_futures).ffill();\n",
    "\n",
    "display(nasdaq_futures, nasdaq_day);"
   ]
  },
  {
   "cell_type": "markdown",
   "metadata": {},
   "source": [
    "## 2. Получим данные с NordPool"
   ]
  },
  {
   "cell_type": "code",
   "execution_count": 3,
   "metadata": {
    "scrolled": true
   },
   "outputs": [
    {
     "data": {
      "text/plain": [
       "{'https://www.nordpoolgroup.com/499241/globalassets/marketdata-excel-files/elspot-prices_2013_hourly_eur.xls': 'price_hour_data',\n",
       " 'https://www.nordpoolgroup.com/499241/globalassets/marketdata-excel-files/elspot-prices_2013_daily_eur.xls': 'price_day_data',\n",
       " 'https://www.nordpoolgroup.com/499241/globalassets/marketdata-excel-files/elspot-prices_2013_monthly_eur.xls': 'price_month_data',\n",
       " 'https://www.nordpoolgroup.com/499241/globalassets/marketdata-excel-files/elspot-volumes_2013_hourly.xls': 'volume_hour_data',\n",
       " 'https://www.nordpoolgroup.com/499241/globalassets/marketdata-excel-files/elspot-volumes_2013_daily.xls': 'volume_day_data',\n",
       " 'https://www.nordpoolgroup.com/499241/globalassets/marketdata-excel-files/exchange-fi-connections_2013_hourly.xls': 'exc_hour_data',\n",
       " 'https://www.nordpoolgroup.com/499241/globalassets/marketdata-excel-files/exchange-no-connections_2013_hourly.xls': 'exc_hour_data',\n",
       " 'https://www.nordpoolgroup.com/499241/globalassets/marketdata-excel-files/exchange-ee-connections_2013_hourly.xls': 'exc_hour_data',\n",
       " 'https://www.nordpoolgroup.com/499241/globalassets/marketdata-excel-files/exchange-lv-connections_2013_hourly.xls': 'exc_hour_data',\n",
       " 'https://www.nordpoolgroup.com/499241/globalassets/marketdata-excel-files/exchange-lt-connections_2013_hourly.xls': 'exc_hour_data',\n",
       " 'https://www.nordpoolgroup.com/499241/globalassets/marketdata-excel-files/exchange-fi-connections_2013_daily.xls': 'exc_day_data',\n",
       " 'https://www.nordpoolgroup.com/499241/globalassets/marketdata-excel-files/exchange-no-connections_2013_daily.xls': 'exc_day_data',\n",
       " 'https://www.nordpoolgroup.com/499241/globalassets/marketdata-excel-files/exchange-ee-connections_2013_daily.xls': 'exc_day_data',\n",
       " 'https://www.nordpoolgroup.com/499241/globalassets/marketdata-excel-files/exchange-lv-connections_2013_daily.xls': 'exc_day_data',\n",
       " 'https://www.nordpoolgroup.com/499241/globalassets/marketdata-excel-files/exchange-lt-connections_2013_daily.xls': 'exc_day_data',\n",
       " 'https://www.nordpoolgroup.com/499241/globalassets/marketdata-excel-files/elspot-prices_2014_hourly_eur.xls': 'price_hour_data',\n",
       " 'https://www.nordpoolgroup.com/499241/globalassets/marketdata-excel-files/elspot-prices_2014_daily_eur.xls': 'price_day_data',\n",
       " 'https://www.nordpoolgroup.com/499241/globalassets/marketdata-excel-files/elspot-prices_2014_monthly_eur.xls': 'price_month_data',\n",
       " 'https://www.nordpoolgroup.com/499241/globalassets/marketdata-excel-files/elspot-volumes_2014_hourly.xls': 'volume_hour_data',\n",
       " 'https://www.nordpoolgroup.com/499241/globalassets/marketdata-excel-files/elspot-volumes_2014_daily.xls': 'volume_day_data',\n",
       " 'https://www.nordpoolgroup.com/499241/globalassets/marketdata-excel-files/exchange-fi-connections_2014_hourly.xls': 'exc_hour_data',\n",
       " 'https://www.nordpoolgroup.com/499241/globalassets/marketdata-excel-files/exchange-no-connections_2014_hourly.xls': 'exc_hour_data',\n",
       " 'https://www.nordpoolgroup.com/499241/globalassets/marketdata-excel-files/exchange-ee-connections_2014_hourly.xls': 'exc_hour_data',\n",
       " 'https://www.nordpoolgroup.com/499241/globalassets/marketdata-excel-files/exchange-lv-connections_2014_hourly.xls': 'exc_hour_data',\n",
       " 'https://www.nordpoolgroup.com/499241/globalassets/marketdata-excel-files/exchange-lt-connections_2014_hourly.xls': 'exc_hour_data',\n",
       " 'https://www.nordpoolgroup.com/499241/globalassets/marketdata-excel-files/exchange-fi-connections_2014_daily.xls': 'exc_day_data',\n",
       " 'https://www.nordpoolgroup.com/499241/globalassets/marketdata-excel-files/exchange-no-connections_2014_daily.xls': 'exc_day_data',\n",
       " 'https://www.nordpoolgroup.com/499241/globalassets/marketdata-excel-files/exchange-ee-connections_2014_daily.xls': 'exc_day_data',\n",
       " 'https://www.nordpoolgroup.com/499241/globalassets/marketdata-excel-files/exchange-lv-connections_2014_daily.xls': 'exc_day_data',\n",
       " 'https://www.nordpoolgroup.com/499241/globalassets/marketdata-excel-files/exchange-lt-connections_2014_daily.xls': 'exc_day_data',\n",
       " 'https://www.nordpoolgroup.com/499241/globalassets/marketdata-excel-files/elspot-prices_2015_hourly_eur.xls': 'price_hour_data',\n",
       " 'https://www.nordpoolgroup.com/499241/globalassets/marketdata-excel-files/elspot-prices_2015_daily_eur.xls': 'price_day_data',\n",
       " 'https://www.nordpoolgroup.com/499241/globalassets/marketdata-excel-files/elspot-prices_2015_monthly_eur.xls': 'price_month_data',\n",
       " 'https://www.nordpoolgroup.com/499241/globalassets/marketdata-excel-files/elspot-volumes_2015_hourly.xls': 'volume_hour_data',\n",
       " 'https://www.nordpoolgroup.com/499241/globalassets/marketdata-excel-files/elspot-volumes_2015_daily.xls': 'volume_day_data',\n",
       " 'https://www.nordpoolgroup.com/499241/globalassets/marketdata-excel-files/exchange-fi-connections_2015_hourly.xls': 'exc_hour_data',\n",
       " 'https://www.nordpoolgroup.com/499241/globalassets/marketdata-excel-files/exchange-no-connections_2015_hourly.xls': 'exc_hour_data',\n",
       " 'https://www.nordpoolgroup.com/499241/globalassets/marketdata-excel-files/exchange-ee-connections_2015_hourly.xls': 'exc_hour_data',\n",
       " 'https://www.nordpoolgroup.com/499241/globalassets/marketdata-excel-files/exchange-lv-connections_2015_hourly.xls': 'exc_hour_data',\n",
       " 'https://www.nordpoolgroup.com/499241/globalassets/marketdata-excel-files/exchange-lt-connections_2015_hourly.xls': 'exc_hour_data',\n",
       " 'https://www.nordpoolgroup.com/499241/globalassets/marketdata-excel-files/exchange-fi-connections_2015_daily.xls': 'exc_day_data',\n",
       " 'https://www.nordpoolgroup.com/499241/globalassets/marketdata-excel-files/exchange-no-connections_2015_daily.xls': 'exc_day_data',\n",
       " 'https://www.nordpoolgroup.com/499241/globalassets/marketdata-excel-files/exchange-ee-connections_2015_daily.xls': 'exc_day_data',\n",
       " 'https://www.nordpoolgroup.com/499241/globalassets/marketdata-excel-files/exchange-lv-connections_2015_daily.xls': 'exc_day_data',\n",
       " 'https://www.nordpoolgroup.com/499241/globalassets/marketdata-excel-files/exchange-lt-connections_2015_daily.xls': 'exc_day_data',\n",
       " 'https://www.nordpoolgroup.com/499241/globalassets/marketdata-excel-files/elspot-prices_2016_hourly_eur.xls': 'price_hour_data',\n",
       " 'https://www.nordpoolgroup.com/499241/globalassets/marketdata-excel-files/elspot-prices_2016_daily_eur.xls': 'price_day_data',\n",
       " 'https://www.nordpoolgroup.com/499241/globalassets/marketdata-excel-files/elspot-prices_2016_monthly_eur.xls': 'price_month_data',\n",
       " 'https://www.nordpoolgroup.com/499241/globalassets/marketdata-excel-files/elspot-volumes_2016_hourly.xls': 'volume_hour_data',\n",
       " 'https://www.nordpoolgroup.com/499241/globalassets/marketdata-excel-files/elspot-volumes_2016_daily.xls': 'volume_day_data',\n",
       " 'https://www.nordpoolgroup.com/499241/globalassets/marketdata-excel-files/exchange-fi-connections_2016_hourly.xls': 'exc_hour_data',\n",
       " 'https://www.nordpoolgroup.com/499241/globalassets/marketdata-excel-files/exchange-no-connections_2016_hourly.xls': 'exc_hour_data',\n",
       " 'https://www.nordpoolgroup.com/499241/globalassets/marketdata-excel-files/exchange-ee-connections_2016_hourly.xls': 'exc_hour_data',\n",
       " 'https://www.nordpoolgroup.com/499241/globalassets/marketdata-excel-files/exchange-lv-connections_2016_hourly.xls': 'exc_hour_data',\n",
       " 'https://www.nordpoolgroup.com/499241/globalassets/marketdata-excel-files/exchange-lt-connections_2016_hourly.xls': 'exc_hour_data',\n",
       " 'https://www.nordpoolgroup.com/499241/globalassets/marketdata-excel-files/exchange-fi-connections_2016_daily.xls': 'exc_day_data',\n",
       " 'https://www.nordpoolgroup.com/499241/globalassets/marketdata-excel-files/exchange-no-connections_2016_daily.xls': 'exc_day_data',\n",
       " 'https://www.nordpoolgroup.com/499241/globalassets/marketdata-excel-files/exchange-ee-connections_2016_daily.xls': 'exc_day_data',\n",
       " 'https://www.nordpoolgroup.com/499241/globalassets/marketdata-excel-files/exchange-lv-connections_2016_daily.xls': 'exc_day_data',\n",
       " 'https://www.nordpoolgroup.com/499241/globalassets/marketdata-excel-files/exchange-lt-connections_2016_daily.xls': 'exc_day_data',\n",
       " 'https://www.nordpoolgroup.com/499241/globalassets/marketdata-excel-files/elspot-prices_2017_hourly_eur.xls': 'price_hour_data',\n",
       " 'https://www.nordpoolgroup.com/499241/globalassets/marketdata-excel-files/elspot-prices_2017_daily_eur.xls': 'price_day_data',\n",
       " 'https://www.nordpoolgroup.com/499241/globalassets/marketdata-excel-files/elspot-prices_2017_monthly_eur.xls': 'price_month_data',\n",
       " 'https://www.nordpoolgroup.com/499241/globalassets/marketdata-excel-files/elspot-volumes_2017_hourly.xls': 'volume_hour_data',\n",
       " 'https://www.nordpoolgroup.com/499241/globalassets/marketdata-excel-files/elspot-volumes_2017_daily.xls': 'volume_day_data',\n",
       " 'https://www.nordpoolgroup.com/499241/globalassets/marketdata-excel-files/exchange-fi-connections_2017_hourly.xls': 'exc_hour_data',\n",
       " 'https://www.nordpoolgroup.com/499241/globalassets/marketdata-excel-files/exchange-no-connections_2017_hourly.xls': 'exc_hour_data',\n",
       " 'https://www.nordpoolgroup.com/499241/globalassets/marketdata-excel-files/exchange-ee-connections_2017_hourly.xls': 'exc_hour_data',\n",
       " 'https://www.nordpoolgroup.com/499241/globalassets/marketdata-excel-files/exchange-lv-connections_2017_hourly.xls': 'exc_hour_data',\n",
       " 'https://www.nordpoolgroup.com/499241/globalassets/marketdata-excel-files/exchange-lt-connections_2017_hourly.xls': 'exc_hour_data',\n",
       " 'https://www.nordpoolgroup.com/499241/globalassets/marketdata-excel-files/exchange-fi-connections_2017_daily.xls': 'exc_day_data',\n",
       " 'https://www.nordpoolgroup.com/499241/globalassets/marketdata-excel-files/exchange-no-connections_2017_daily.xls': 'exc_day_data',\n",
       " 'https://www.nordpoolgroup.com/499241/globalassets/marketdata-excel-files/exchange-ee-connections_2017_daily.xls': 'exc_day_data',\n",
       " 'https://www.nordpoolgroup.com/499241/globalassets/marketdata-excel-files/exchange-lv-connections_2017_daily.xls': 'exc_day_data',\n",
       " 'https://www.nordpoolgroup.com/499241/globalassets/marketdata-excel-files/exchange-lt-connections_2017_daily.xls': 'exc_day_data',\n",
       " 'https://www.nordpoolgroup.com/499241/globalassets/marketdata-excel-files/elspot-prices_2018_hourly_eur.xls': 'price_hour_data',\n",
       " 'https://www.nordpoolgroup.com/499241/globalassets/marketdata-excel-files/elspot-prices_2018_daily_eur.xls': 'price_day_data',\n",
       " 'https://www.nordpoolgroup.com/499241/globalassets/marketdata-excel-files/elspot-prices_2018_monthly_eur.xls': 'price_month_data',\n",
       " 'https://www.nordpoolgroup.com/499241/globalassets/marketdata-excel-files/elspot-volumes_2018_hourly.xls': 'volume_hour_data',\n",
       " 'https://www.nordpoolgroup.com/499241/globalassets/marketdata-excel-files/elspot-volumes_2018_daily.xls': 'volume_day_data',\n",
       " 'https://www.nordpoolgroup.com/499241/globalassets/marketdata-excel-files/exchange-fi-connections_2018_hourly.xls': 'exc_hour_data',\n",
       " 'https://www.nordpoolgroup.com/499241/globalassets/marketdata-excel-files/exchange-no-connections_2018_hourly.xls': 'exc_hour_data',\n",
       " 'https://www.nordpoolgroup.com/499241/globalassets/marketdata-excel-files/exchange-ee-connections_2018_hourly.xls': 'exc_hour_data',\n",
       " 'https://www.nordpoolgroup.com/499241/globalassets/marketdata-excel-files/exchange-lv-connections_2018_hourly.xls': 'exc_hour_data',\n",
       " 'https://www.nordpoolgroup.com/499241/globalassets/marketdata-excel-files/exchange-lt-connections_2018_hourly.xls': 'exc_hour_data',\n",
       " 'https://www.nordpoolgroup.com/499241/globalassets/marketdata-excel-files/exchange-fi-connections_2018_daily.xls': 'exc_day_data',\n",
       " 'https://www.nordpoolgroup.com/499241/globalassets/marketdata-excel-files/exchange-no-connections_2018_daily.xls': 'exc_day_data',\n",
       " 'https://www.nordpoolgroup.com/499241/globalassets/marketdata-excel-files/exchange-ee-connections_2018_daily.xls': 'exc_day_data',\n",
       " 'https://www.nordpoolgroup.com/499241/globalassets/marketdata-excel-files/exchange-lv-connections_2018_daily.xls': 'exc_day_data',\n",
       " 'https://www.nordpoolgroup.com/499241/globalassets/marketdata-excel-files/exchange-lt-connections_2018_daily.xls': 'exc_day_data',\n",
       " 'https://www.nordpoolgroup.com/499241/globalassets/marketdata-excel-files/elspot-prices_2019_hourly_eur.xls': 'price_hour_data',\n",
       " 'https://www.nordpoolgroup.com/499241/globalassets/marketdata-excel-files/elspot-prices_2019_daily_eur.xls': 'price_day_data',\n",
       " 'https://www.nordpoolgroup.com/499241/globalassets/marketdata-excel-files/elspot-prices_2019_monthly_eur.xls': 'price_month_data',\n",
       " 'https://www.nordpoolgroup.com/499241/globalassets/marketdata-excel-files/elspot-volumes_2019_hourly.xls': 'volume_hour_data',\n",
       " 'https://www.nordpoolgroup.com/499241/globalassets/marketdata-excel-files/elspot-volumes_2019_daily.xls': 'volume_day_data',\n",
       " 'https://www.nordpoolgroup.com/499241/globalassets/marketdata-excel-files/exchange-fi-connections_2019_hourly.xls': 'exc_hour_data',\n",
       " 'https://www.nordpoolgroup.com/499241/globalassets/marketdata-excel-files/exchange-no-connections_2019_hourly.xls': 'exc_hour_data',\n",
       " 'https://www.nordpoolgroup.com/499241/globalassets/marketdata-excel-files/exchange-ee-connections_2019_hourly.xls': 'exc_hour_data',\n",
       " 'https://www.nordpoolgroup.com/499241/globalassets/marketdata-excel-files/exchange-lv-connections_2019_hourly.xls': 'exc_hour_data',\n",
       " 'https://www.nordpoolgroup.com/499241/globalassets/marketdata-excel-files/exchange-lt-connections_2019_hourly.xls': 'exc_hour_data',\n",
       " 'https://www.nordpoolgroup.com/499241/globalassets/marketdata-excel-files/exchange-fi-connections_2019_daily.xls': 'exc_day_data',\n",
       " 'https://www.nordpoolgroup.com/499241/globalassets/marketdata-excel-files/exchange-no-connections_2019_daily.xls': 'exc_day_data',\n",
       " 'https://www.nordpoolgroup.com/499241/globalassets/marketdata-excel-files/exchange-ee-connections_2019_daily.xls': 'exc_day_data',\n",
       " 'https://www.nordpoolgroup.com/499241/globalassets/marketdata-excel-files/exchange-lv-connections_2019_daily.xls': 'exc_day_data',\n",
       " 'https://www.nordpoolgroup.com/499241/globalassets/marketdata-excel-files/exchange-lt-connections_2019_daily.xls': 'exc_day_data',\n",
       " 'https://www.nordpoolgroup.com/499241/globalassets/marketdata-excel-files/elspot-prices_2020_hourly_eur.xls': 'price_hour_data',\n",
       " 'https://www.nordpoolgroup.com/499241/globalassets/marketdata-excel-files/elspot-prices_2020_daily_eur.xls': 'price_day_data',\n",
       " 'https://www.nordpoolgroup.com/499241/globalassets/marketdata-excel-files/elspot-prices_2020_monthly_eur.xls': 'price_month_data',\n",
       " 'https://www.nordpoolgroup.com/499241/globalassets/marketdata-excel-files/elspot-volumes_2020_hourly.xls': 'volume_hour_data',\n",
       " 'https://www.nordpoolgroup.com/499241/globalassets/marketdata-excel-files/elspot-volumes_2020_daily.xls': 'volume_day_data',\n",
       " 'https://www.nordpoolgroup.com/499241/globalassets/marketdata-excel-files/exchange-fi-connections_2020_hourly.xls': 'exc_hour_data',\n",
       " 'https://www.nordpoolgroup.com/499241/globalassets/marketdata-excel-files/exchange-no-connections_2020_hourly.xls': 'exc_hour_data',\n",
       " 'https://www.nordpoolgroup.com/499241/globalassets/marketdata-excel-files/exchange-ee-connections_2020_hourly.xls': 'exc_hour_data',\n",
       " 'https://www.nordpoolgroup.com/499241/globalassets/marketdata-excel-files/exchange-lv-connections_2020_hourly.xls': 'exc_hour_data',\n",
       " 'https://www.nordpoolgroup.com/499241/globalassets/marketdata-excel-files/exchange-lt-connections_2020_hourly.xls': 'exc_hour_data',\n",
       " 'https://www.nordpoolgroup.com/499241/globalassets/marketdata-excel-files/exchange-fi-connections_2020_daily.xls': 'exc_day_data',\n",
       " 'https://www.nordpoolgroup.com/499241/globalassets/marketdata-excel-files/exchange-no-connections_2020_daily.xls': 'exc_day_data',\n",
       " 'https://www.nordpoolgroup.com/499241/globalassets/marketdata-excel-files/exchange-ee-connections_2020_daily.xls': 'exc_day_data',\n",
       " 'https://www.nordpoolgroup.com/499241/globalassets/marketdata-excel-files/exchange-lv-connections_2020_daily.xls': 'exc_day_data',\n",
       " 'https://www.nordpoolgroup.com/499241/globalassets/marketdata-excel-files/exchange-lt-connections_2020_daily.xls': 'exc_day_data',\n",
       " 'https://www.nordpoolgroup.com/499241/globalassets/marketdata-excel-files/elspot-prices_2021_hourly_eur.xls': 'price_hour_data',\n",
       " 'https://www.nordpoolgroup.com/499241/globalassets/marketdata-excel-files/elspot-prices_2021_daily_eur.xls': 'price_day_data',\n",
       " 'https://www.nordpoolgroup.com/499241/globalassets/marketdata-excel-files/elspot-prices_2021_monthly_eur.xls': 'price_month_data',\n",
       " 'https://www.nordpoolgroup.com/499241/globalassets/marketdata-excel-files/elspot-volumes_2021_hourly.xls': 'volume_hour_data',\n",
       " 'https://www.nordpoolgroup.com/499241/globalassets/marketdata-excel-files/elspot-volumes_2021_daily.xls': 'volume_day_data',\n",
       " 'https://www.nordpoolgroup.com/499241/globalassets/marketdata-excel-files/exchange-fi-connections_2021_hourly.xls': 'exc_hour_data',\n",
       " 'https://www.nordpoolgroup.com/499241/globalassets/marketdata-excel-files/exchange-no-connections_2021_hourly.xls': 'exc_hour_data',\n",
       " 'https://www.nordpoolgroup.com/499241/globalassets/marketdata-excel-files/exchange-ee-connections_2021_hourly.xls': 'exc_hour_data',\n",
       " 'https://www.nordpoolgroup.com/499241/globalassets/marketdata-excel-files/exchange-lv-connections_2021_hourly.xls': 'exc_hour_data',\n",
       " 'https://www.nordpoolgroup.com/499241/globalassets/marketdata-excel-files/exchange-lt-connections_2021_hourly.xls': 'exc_hour_data',\n",
       " 'https://www.nordpoolgroup.com/499241/globalassets/marketdata-excel-files/exchange-fi-connections_2021_daily.xls': 'exc_day_data',\n",
       " 'https://www.nordpoolgroup.com/499241/globalassets/marketdata-excel-files/exchange-no-connections_2021_daily.xls': 'exc_day_data',\n",
       " 'https://www.nordpoolgroup.com/499241/globalassets/marketdata-excel-files/exchange-ee-connections_2021_daily.xls': 'exc_day_data',\n",
       " 'https://www.nordpoolgroup.com/499241/globalassets/marketdata-excel-files/exchange-lv-connections_2021_daily.xls': 'exc_day_data',\n",
       " 'https://www.nordpoolgroup.com/499241/globalassets/marketdata-excel-files/exchange-lt-connections_2021_daily.xls': 'exc_day_data',\n",
       " 'https://www.nordpoolgroup.com/499241/globalassets/marketdata-excel-files/elspot-prices_2022_hourly_eur.xls': 'price_hour_data',\n",
       " 'https://www.nordpoolgroup.com/499241/globalassets/marketdata-excel-files/elspot-prices_2022_daily_eur.xls': 'price_day_data',\n",
       " 'https://www.nordpoolgroup.com/499241/globalassets/marketdata-excel-files/elspot-prices_2022_monthly_eur.xls': 'price_month_data',\n",
       " 'https://www.nordpoolgroup.com/499241/globalassets/marketdata-excel-files/elspot-volumes_2022_hourly.xls': 'volume_hour_data',\n",
       " 'https://www.nordpoolgroup.com/499241/globalassets/marketdata-excel-files/elspot-volumes_2022_daily.xls': 'volume_day_data',\n",
       " 'https://www.nordpoolgroup.com/499241/globalassets/marketdata-excel-files/exchange-fi-connections_2022_hourly.xls': 'exc_hour_data',\n",
       " 'https://www.nordpoolgroup.com/499241/globalassets/marketdata-excel-files/exchange-no-connections_2022_hourly.xls': 'exc_hour_data',\n",
       " 'https://www.nordpoolgroup.com/499241/globalassets/marketdata-excel-files/exchange-ee-connections_2022_hourly.xls': 'exc_hour_data',\n",
       " 'https://www.nordpoolgroup.com/499241/globalassets/marketdata-excel-files/exchange-lv-connections_2022_hourly.xls': 'exc_hour_data',\n",
       " 'https://www.nordpoolgroup.com/499241/globalassets/marketdata-excel-files/exchange-lt-connections_2022_hourly.xls': 'exc_hour_data',\n",
       " 'https://www.nordpoolgroup.com/499241/globalassets/marketdata-excel-files/exchange-fi-connections_2022_daily.xls': 'exc_day_data',\n",
       " 'https://www.nordpoolgroup.com/499241/globalassets/marketdata-excel-files/exchange-no-connections_2022_daily.xls': 'exc_day_data',\n",
       " 'https://www.nordpoolgroup.com/499241/globalassets/marketdata-excel-files/exchange-ee-connections_2022_daily.xls': 'exc_day_data',\n",
       " 'https://www.nordpoolgroup.com/499241/globalassets/marketdata-excel-files/exchange-lv-connections_2022_daily.xls': 'exc_day_data',\n",
       " 'https://www.nordpoolgroup.com/499241/globalassets/marketdata-excel-files/exchange-lt-connections_2022_daily.xls': 'exc_day_data'}"
      ]
     },
     "metadata": {},
     "output_type": "display_data"
    }
   ],
   "source": [
    "all_link = [['price_hour_data', 'elspot-prices_', '_hourly_eur.xls'], #почасовые цены\n",
    "            ['price_day_data', 'elspot-prices_', '_daily_eur.xls'], #посуточные цены\n",
    "            ['price_month_data',  'elspot-prices_', '_monthly_eur.xls'], #помесячные цены\n",
    "            \n",
    "            ['volume_hour_data', 'elspot-volumes_', '_hourly.xls'], #почасовое потребление\n",
    "            ['volume_day_data', 'elspot-volumes_', '_daily.xls'], #посуточное потребление \n",
    "            \n",
    "            ['exc_hour_data', 'exchange-', '_hourly.xls'], #почасовой переток\n",
    "            ['exc_day_data', 'exchange-', '_daily.xls'] #посуточный переток\n",
    "           ];\n",
    "\n",
    "#сайт НордПула\n",
    "nord_link = 'https://www.nordpoolgroup.com/499241/globalassets/marketdata-excel-files/';\n",
    "reg = ['fi', 'no', 'ee', 'lv', 'lt'] #страны с перетоком из/в РФ\n",
    "\n",
    "url_of_file = {};\n",
    "#Для каждого года с 2013 получим сылку на файл с сайта\n",
    "for goda in range(2013, dt.datetime.now().year + 1):\n",
    "    for type_dann, group_dann, form_dann  in all_link:\n",
    "        #Для данных по перетоку немного иной формат записи\n",
    "        if group_dann != 'exchange-':\n",
    "            url_of_file[nord_link + group_dann + str(goda) + form_dann] = type_dann;\n",
    "        else:\n",
    "            for strana in reg:\n",
    "                url_of_file[nord_link + group_dann + strana + '-connections_' + str(goda) + form_dann] = type_dann;\n",
    "\n",
    "#Все ссылки\n",
    "display(url_of_file)"
   ]
  },
  {
   "cell_type": "code",
   "execution_count": 6,
   "metadata": {},
   "outputs": [
    {
     "data": {
      "application/vnd.jupyter.widget-view+json": {
       "model_id": "11d7f9befd7a460491a8416b6b1720f7",
       "version_major": 2,
       "version_minor": 0
      },
      "text/plain": [
       "  0%|          | 0/150 [00:00<?, ?it/s]"
      ]
     },
     "metadata": {},
     "output_type": "display_data"
    },
    {
     "name": "stdout",
     "output_type": "stream",
     "text": [
      "404 https://www.nordpoolgroup.com/499241/globalassets/marketdata-excel-files/exchange-ee-connections_2013_hourly.xls\n",
      "404 https://www.nordpoolgroup.com/499241/globalassets/marketdata-excel-files/exchange-lv-connections_2013_hourly.xls\n",
      "404 https://www.nordpoolgroup.com/499241/globalassets/marketdata-excel-files/exchange-lt-connections_2013_hourly.xls\n"
     ]
    },
    {
     "ename": "ValueError",
     "evalue": "No tables found",
     "output_type": "error",
     "traceback": [
      "\u001b[0;31m---------------------------------------------------------------------------\u001b[0m",
      "\u001b[0;31m_RemoteTraceback\u001b[0m                          Traceback (most recent call last)",
      "\u001b[0;31m_RemoteTraceback\u001b[0m: \n\"\"\"\nTraceback (most recent call last):\n  File \"/usr/lib/python3.6/concurrent/futures/process.py\", line 175, in _process_worker\n    r = call_item.fn(*call_item.args, **call_item.kwargs)\n  File \"/usr/lib/python3.6/concurrent/futures/process.py\", line 153, in _process_chunk\n    return [fn(*args) for args in chunk]\n  File \"/usr/lib/python3.6/concurrent/futures/process.py\", line 153, in <listcomp>\n    return [fn(*args) for args in chunk]\n  File \"<timed exec>\", line 28, in load_file\n  File \"/home/vishniakovai/.local/lib/python3.6/site-packages/pandas/util/_decorators.py\", line 296, in wrapper\n    return func(*args, **kwargs)\n  File \"/home/vishniakovai/.local/lib/python3.6/site-packages/pandas/io/html.py\", line 1101, in read_html\n    displayed_only=displayed_only,\n  File \"/home/vishniakovai/.local/lib/python3.6/site-packages/pandas/io/html.py\", line 917, in _parse\n    raise retained\n  File \"/home/vishniakovai/.local/lib/python3.6/site-packages/pandas/io/html.py\", line 898, in _parse\n    tables = p.parse_tables()\n  File \"/home/vishniakovai/.local/lib/python3.6/site-packages/pandas/io/html.py\", line 217, in parse_tables\n    tables = self._parse_tables(self._build_doc(), self.match, self.attrs)\n  File \"/home/vishniakovai/.local/lib/python3.6/site-packages/pandas/io/html.py\", line 547, in _parse_tables\n    raise ValueError(\"No tables found\")\nValueError: No tables found\n\"\"\"",
      "\nThe above exception was the direct cause of the following exception:\n",
      "\u001b[0;31mValueError\u001b[0m                                Traceback (most recent call last)",
      "\u001b[0;32m<timed exec>\u001b[0m in \u001b[0;36m<module>\u001b[0;34m\u001b[0m\n",
      "\u001b[0;32m/usr/local/lib/python3.6/dist-packages/tqdm/contrib/concurrent.py\u001b[0m in \u001b[0;36mprocess_map\u001b[0;34m(fn, *iterables, **tqdm_kwargs)\u001b[0m\n\u001b[1;32m    128\u001b[0m         \u001b[0mtqdm_kwargs\u001b[0m \u001b[0;34m=\u001b[0m \u001b[0mtqdm_kwargs\u001b[0m\u001b[0;34m.\u001b[0m\u001b[0mcopy\u001b[0m\u001b[0;34m(\u001b[0m\u001b[0;34m)\u001b[0m\u001b[0;34m\u001b[0m\u001b[0;34m\u001b[0m\u001b[0m\n\u001b[1;32m    129\u001b[0m         \u001b[0mtqdm_kwargs\u001b[0m\u001b[0;34m[\u001b[0m\u001b[0;34m\"lock_name\"\u001b[0m\u001b[0;34m]\u001b[0m \u001b[0;34m=\u001b[0m \u001b[0;34m\"mp_lock\"\u001b[0m\u001b[0;34m\u001b[0m\u001b[0;34m\u001b[0m\u001b[0m\n\u001b[0;32m--> 130\u001b[0;31m     \u001b[0;32mreturn\u001b[0m \u001b[0m_executor_map\u001b[0m\u001b[0;34m(\u001b[0m\u001b[0mProcessPoolExecutor\u001b[0m\u001b[0;34m,\u001b[0m \u001b[0mfn\u001b[0m\u001b[0;34m,\u001b[0m \u001b[0;34m*\u001b[0m\u001b[0miterables\u001b[0m\u001b[0;34m,\u001b[0m \u001b[0;34m**\u001b[0m\u001b[0mtqdm_kwargs\u001b[0m\u001b[0;34m)\u001b[0m\u001b[0;34m\u001b[0m\u001b[0;34m\u001b[0m\u001b[0m\n\u001b[0m",
      "\u001b[0;32m/usr/local/lib/python3.6/dist-packages/tqdm/contrib/concurrent.py\u001b[0m in \u001b[0;36m_executor_map\u001b[0;34m(PoolExecutor, fn, *iterables, **tqdm_kwargs)\u001b[0m\n\u001b[1;32m     74\u001b[0m             \u001b[0mmap_args\u001b[0m\u001b[0;34m.\u001b[0m\u001b[0mupdate\u001b[0m\u001b[0;34m(\u001b[0m\u001b[0mchunksize\u001b[0m\u001b[0;34m=\u001b[0m\u001b[0mchunksize\u001b[0m\u001b[0;34m)\u001b[0m\u001b[0;34m\u001b[0m\u001b[0;34m\u001b[0m\u001b[0m\n\u001b[1;32m     75\u001b[0m         \u001b[0;32mwith\u001b[0m \u001b[0mPoolExecutor\u001b[0m\u001b[0;34m(\u001b[0m\u001b[0;34m**\u001b[0m\u001b[0mpool_kwargs\u001b[0m\u001b[0;34m)\u001b[0m \u001b[0;32mas\u001b[0m \u001b[0mex\u001b[0m\u001b[0;34m:\u001b[0m\u001b[0;34m\u001b[0m\u001b[0;34m\u001b[0m\u001b[0m\n\u001b[0;32m---> 76\u001b[0;31m             \u001b[0;32mreturn\u001b[0m \u001b[0mlist\u001b[0m\u001b[0;34m(\u001b[0m\u001b[0mtqdm_class\u001b[0m\u001b[0;34m(\u001b[0m\u001b[0mex\u001b[0m\u001b[0;34m.\u001b[0m\u001b[0mmap\u001b[0m\u001b[0;34m(\u001b[0m\u001b[0mfn\u001b[0m\u001b[0;34m,\u001b[0m \u001b[0;34m*\u001b[0m\u001b[0miterables\u001b[0m\u001b[0;34m,\u001b[0m \u001b[0;34m**\u001b[0m\u001b[0mmap_args\u001b[0m\u001b[0;34m)\u001b[0m\u001b[0;34m,\u001b[0m \u001b[0;34m**\u001b[0m\u001b[0mkwargs\u001b[0m\u001b[0;34m)\u001b[0m\u001b[0;34m)\u001b[0m\u001b[0;34m\u001b[0m\u001b[0;34m\u001b[0m\u001b[0m\n\u001b[0m\u001b[1;32m     77\u001b[0m \u001b[0;34m\u001b[0m\u001b[0m\n\u001b[1;32m     78\u001b[0m \u001b[0;34m\u001b[0m\u001b[0m\n",
      "\u001b[0;32m/usr/local/lib/python3.6/dist-packages/tqdm/notebook.py\u001b[0m in \u001b[0;36m__iter__\u001b[0;34m(self)\u001b[0m\n\u001b[1;32m    252\u001b[0m     \u001b[0;32mdef\u001b[0m \u001b[0m__iter__\u001b[0m\u001b[0;34m(\u001b[0m\u001b[0mself\u001b[0m\u001b[0;34m)\u001b[0m\u001b[0;34m:\u001b[0m\u001b[0;34m\u001b[0m\u001b[0;34m\u001b[0m\u001b[0m\n\u001b[1;32m    253\u001b[0m         \u001b[0;32mtry\u001b[0m\u001b[0;34m:\u001b[0m\u001b[0;34m\u001b[0m\u001b[0;34m\u001b[0m\u001b[0m\n\u001b[0;32m--> 254\u001b[0;31m             \u001b[0;32mfor\u001b[0m \u001b[0mobj\u001b[0m \u001b[0;32min\u001b[0m \u001b[0msuper\u001b[0m\u001b[0;34m(\u001b[0m\u001b[0mtqdm_notebook\u001b[0m\u001b[0;34m,\u001b[0m \u001b[0mself\u001b[0m\u001b[0;34m)\u001b[0m\u001b[0;34m.\u001b[0m\u001b[0m__iter__\u001b[0m\u001b[0;34m(\u001b[0m\u001b[0;34m)\u001b[0m\u001b[0;34m:\u001b[0m\u001b[0;34m\u001b[0m\u001b[0;34m\u001b[0m\u001b[0m\n\u001b[0m\u001b[1;32m    255\u001b[0m                 \u001b[0;31m# return super(tqdm...) will not catch exception\u001b[0m\u001b[0;34m\u001b[0m\u001b[0;34m\u001b[0m\u001b[0;34m\u001b[0m\u001b[0m\n\u001b[1;32m    256\u001b[0m                 \u001b[0;32myield\u001b[0m \u001b[0mobj\u001b[0m\u001b[0;34m\u001b[0m\u001b[0;34m\u001b[0m\u001b[0m\n",
      "\u001b[0;32m/usr/local/lib/python3.6/dist-packages/tqdm/std.py\u001b[0m in \u001b[0;36m__iter__\u001b[0;34m(self)\u001b[0m\n\u001b[1;32m   1183\u001b[0m \u001b[0;34m\u001b[0m\u001b[0m\n\u001b[1;32m   1184\u001b[0m         \u001b[0;32mtry\u001b[0m\u001b[0;34m:\u001b[0m\u001b[0;34m\u001b[0m\u001b[0;34m\u001b[0m\u001b[0m\n\u001b[0;32m-> 1185\u001b[0;31m             \u001b[0;32mfor\u001b[0m \u001b[0mobj\u001b[0m \u001b[0;32min\u001b[0m \u001b[0miterable\u001b[0m\u001b[0;34m:\u001b[0m\u001b[0;34m\u001b[0m\u001b[0;34m\u001b[0m\u001b[0m\n\u001b[0m\u001b[1;32m   1186\u001b[0m                 \u001b[0;32myield\u001b[0m \u001b[0mobj\u001b[0m\u001b[0;34m\u001b[0m\u001b[0;34m\u001b[0m\u001b[0m\n\u001b[1;32m   1187\u001b[0m                 \u001b[0;31m# Update and possibly print the progressbar.\u001b[0m\u001b[0;34m\u001b[0m\u001b[0;34m\u001b[0m\u001b[0;34m\u001b[0m\u001b[0m\n",
      "\u001b[0;32m/usr/lib/python3.6/concurrent/futures/process.py\u001b[0m in \u001b[0;36m_chain_from_iterable_of_lists\u001b[0;34m(iterable)\u001b[0m\n\u001b[1;32m    364\u001b[0m     \u001b[0mcareful\u001b[0m \u001b[0;32mnot\u001b[0m \u001b[0mto\u001b[0m \u001b[0mkeep\u001b[0m \u001b[0mreferences\u001b[0m \u001b[0mto\u001b[0m \u001b[0myielded\u001b[0m \u001b[0mobjects\u001b[0m\u001b[0;34m.\u001b[0m\u001b[0;34m\u001b[0m\u001b[0;34m\u001b[0m\u001b[0m\n\u001b[1;32m    365\u001b[0m     \"\"\"\n\u001b[0;32m--> 366\u001b[0;31m     \u001b[0;32mfor\u001b[0m \u001b[0melement\u001b[0m \u001b[0;32min\u001b[0m \u001b[0miterable\u001b[0m\u001b[0;34m:\u001b[0m\u001b[0;34m\u001b[0m\u001b[0;34m\u001b[0m\u001b[0m\n\u001b[0m\u001b[1;32m    367\u001b[0m         \u001b[0melement\u001b[0m\u001b[0;34m.\u001b[0m\u001b[0mreverse\u001b[0m\u001b[0;34m(\u001b[0m\u001b[0;34m)\u001b[0m\u001b[0;34m\u001b[0m\u001b[0;34m\u001b[0m\u001b[0m\n\u001b[1;32m    368\u001b[0m         \u001b[0;32mwhile\u001b[0m \u001b[0melement\u001b[0m\u001b[0;34m:\u001b[0m\u001b[0;34m\u001b[0m\u001b[0;34m\u001b[0m\u001b[0m\n",
      "\u001b[0;32m/usr/lib/python3.6/concurrent/futures/_base.py\u001b[0m in \u001b[0;36mresult_iterator\u001b[0;34m()\u001b[0m\n\u001b[1;32m    584\u001b[0m                     \u001b[0;31m# Careful not to keep a reference to the popped future\u001b[0m\u001b[0;34m\u001b[0m\u001b[0;34m\u001b[0m\u001b[0;34m\u001b[0m\u001b[0m\n\u001b[1;32m    585\u001b[0m                     \u001b[0;32mif\u001b[0m \u001b[0mtimeout\u001b[0m \u001b[0;32mis\u001b[0m \u001b[0;32mNone\u001b[0m\u001b[0;34m:\u001b[0m\u001b[0;34m\u001b[0m\u001b[0;34m\u001b[0m\u001b[0m\n\u001b[0;32m--> 586\u001b[0;31m                         \u001b[0;32myield\u001b[0m \u001b[0mfs\u001b[0m\u001b[0;34m.\u001b[0m\u001b[0mpop\u001b[0m\u001b[0;34m(\u001b[0m\u001b[0;34m)\u001b[0m\u001b[0;34m.\u001b[0m\u001b[0mresult\u001b[0m\u001b[0;34m(\u001b[0m\u001b[0;34m)\u001b[0m\u001b[0;34m\u001b[0m\u001b[0;34m\u001b[0m\u001b[0m\n\u001b[0m\u001b[1;32m    587\u001b[0m                     \u001b[0;32melse\u001b[0m\u001b[0;34m:\u001b[0m\u001b[0;34m\u001b[0m\u001b[0;34m\u001b[0m\u001b[0m\n\u001b[1;32m    588\u001b[0m                         \u001b[0;32myield\u001b[0m \u001b[0mfs\u001b[0m\u001b[0;34m.\u001b[0m\u001b[0mpop\u001b[0m\u001b[0;34m(\u001b[0m\u001b[0;34m)\u001b[0m\u001b[0;34m.\u001b[0m\u001b[0mresult\u001b[0m\u001b[0;34m(\u001b[0m\u001b[0mend_time\u001b[0m \u001b[0;34m-\u001b[0m \u001b[0mtime\u001b[0m\u001b[0;34m.\u001b[0m\u001b[0mmonotonic\u001b[0m\u001b[0;34m(\u001b[0m\u001b[0;34m)\u001b[0m\u001b[0;34m)\u001b[0m\u001b[0;34m\u001b[0m\u001b[0;34m\u001b[0m\u001b[0m\n",
      "\u001b[0;32m/usr/lib/python3.6/concurrent/futures/_base.py\u001b[0m in \u001b[0;36mresult\u001b[0;34m(self, timeout)\u001b[0m\n\u001b[1;32m    430\u001b[0m                 \u001b[0;32mraise\u001b[0m \u001b[0mCancelledError\u001b[0m\u001b[0;34m(\u001b[0m\u001b[0;34m)\u001b[0m\u001b[0;34m\u001b[0m\u001b[0;34m\u001b[0m\u001b[0m\n\u001b[1;32m    431\u001b[0m             \u001b[0;32melif\u001b[0m \u001b[0mself\u001b[0m\u001b[0;34m.\u001b[0m\u001b[0m_state\u001b[0m \u001b[0;34m==\u001b[0m \u001b[0mFINISHED\u001b[0m\u001b[0;34m:\u001b[0m\u001b[0;34m\u001b[0m\u001b[0;34m\u001b[0m\u001b[0m\n\u001b[0;32m--> 432\u001b[0;31m                 \u001b[0;32mreturn\u001b[0m \u001b[0mself\u001b[0m\u001b[0;34m.\u001b[0m\u001b[0m__get_result\u001b[0m\u001b[0;34m(\u001b[0m\u001b[0;34m)\u001b[0m\u001b[0;34m\u001b[0m\u001b[0;34m\u001b[0m\u001b[0m\n\u001b[0m\u001b[1;32m    433\u001b[0m             \u001b[0;32melse\u001b[0m\u001b[0;34m:\u001b[0m\u001b[0;34m\u001b[0m\u001b[0;34m\u001b[0m\u001b[0m\n\u001b[1;32m    434\u001b[0m                 \u001b[0;32mraise\u001b[0m \u001b[0mTimeoutError\u001b[0m\u001b[0;34m(\u001b[0m\u001b[0;34m)\u001b[0m\u001b[0;34m\u001b[0m\u001b[0;34m\u001b[0m\u001b[0m\n",
      "\u001b[0;32m/usr/lib/python3.6/concurrent/futures/_base.py\u001b[0m in \u001b[0;36m__get_result\u001b[0;34m(self)\u001b[0m\n\u001b[1;32m    382\u001b[0m     \u001b[0;32mdef\u001b[0m \u001b[0m__get_result\u001b[0m\u001b[0;34m(\u001b[0m\u001b[0mself\u001b[0m\u001b[0;34m)\u001b[0m\u001b[0;34m:\u001b[0m\u001b[0;34m\u001b[0m\u001b[0;34m\u001b[0m\u001b[0m\n\u001b[1;32m    383\u001b[0m         \u001b[0;32mif\u001b[0m \u001b[0mself\u001b[0m\u001b[0;34m.\u001b[0m\u001b[0m_exception\u001b[0m\u001b[0;34m:\u001b[0m\u001b[0;34m\u001b[0m\u001b[0;34m\u001b[0m\u001b[0m\n\u001b[0;32m--> 384\u001b[0;31m             \u001b[0;32mraise\u001b[0m \u001b[0mself\u001b[0m\u001b[0;34m.\u001b[0m\u001b[0m_exception\u001b[0m\u001b[0;34m\u001b[0m\u001b[0;34m\u001b[0m\u001b[0m\n\u001b[0m\u001b[1;32m    385\u001b[0m         \u001b[0;32melse\u001b[0m\u001b[0;34m:\u001b[0m\u001b[0;34m\u001b[0m\u001b[0;34m\u001b[0m\u001b[0m\n\u001b[1;32m    386\u001b[0m             \u001b[0;32mreturn\u001b[0m \u001b[0mself\u001b[0m\u001b[0;34m.\u001b[0m\u001b[0m_result\u001b[0m\u001b[0;34m\u001b[0m\u001b[0;34m\u001b[0m\u001b[0m\n",
      "\u001b[0;31mValueError\u001b[0m: No tables found"
     ]
    }
   ],
   "source": [
    "%%time\n",
    "\n",
    "#Обработка даты-времени\n",
    "def time_form(fr, date_code):\n",
    "    if 'hourly' in date_code: #Если это почасовые данные нужна доплнительная обработка\n",
    "        fr['Unnamed: 0'] = fr['Hours'].str[:2] + '-' + fr['Unnamed: 0'];\n",
    "        fr.drop(columns=['Hours'], inplace=True); #Удалим лишнее\n",
    "        date_format = '%H-%d-%m-%Y';\n",
    "    elif 'daily' in date_code:\n",
    "        date_format = '%d-%m-%Y';\n",
    "    elif 'monthly' in date_code:\n",
    "        date_format = '%y - %b';\n",
    "    \n",
    "    #Создадим новый индекс - дату\n",
    "    fr['Unnamed: 0'] = pd.to_datetime(fr['Unnamed: 0'], format=date_format);\n",
    "    fr.set_index(['Unnamed: 0'], inplace=True);\n",
    "    fr.index.name = 'Дата'\n",
    "    return fr\n",
    "\n",
    "#Загрузка данных с форматированием\n",
    "def load_file(link_load):\n",
    "    time_temp = str(dt.datetime.now());\n",
    "    zagr_link = path_korn + f'/Load data/{time_temp} Data_temp.xls';\n",
    "    zagr_link = zagr_link.replace(':', '-'); #Двоеточие недопустимый символ\n",
    "    \n",
    "    #Проверим существует ли ссылка\n",
    "    try:\n",
    "        urllib.request.urlretrieve(link_load, zagr_link);\n",
    "        #Если не было ошибки, сохраним данные\n",
    "        fr_html =  pd.read_html(zagr_link, skiprows=1, header=1, decimal=',', thousands='.')[0];\n",
    "        fr_html = time_form(fr_html, link_load); #Обработаем дату\n",
    "        os.remove(zagr_link);\n",
    "        return link_load, fr_html;\n",
    "    except urllib.error.HTTPError as e:\n",
    "            #Если такой ссылки не существует, обработаем ошибку\n",
    "            if e.code in [404]:\n",
    "                print('404', link_load);\n",
    "            else:\n",
    "                print('Другая ошибка!');\n",
    "\n",
    "#Запустим загрузку данных с сайта\n",
    "results = process_map(load_file, url_of_file, max_workers=4);"
   ]
  },
  {
   "cell_type": "code",
   "execution_count": 5,
   "metadata": {},
   "outputs": [
    {
     "ename": "NameError",
     "evalue": "name 'results' is not defined",
     "output_type": "error",
     "traceback": [
      "\u001b[0;31m---------------------------------------------------------------------------\u001b[0m",
      "\u001b[0;31mNameError\u001b[0m                                 Traceback (most recent call last)",
      "\u001b[0;32m<ipython-input-5-ab1aab3f4c74>\u001b[0m in \u001b[0;36m<module>\u001b[0;34m\u001b[0m\n\u001b[1;32m      3\u001b[0m \u001b[0;32mfor\u001b[0m \u001b[0mi\u001b[0m \u001b[0;32min\u001b[0m \u001b[0mall_link\u001b[0m\u001b[0;34m:\u001b[0m \u001b[0mdata_all\u001b[0m\u001b[0;34m[\u001b[0m\u001b[0mi\u001b[0m\u001b[0;34m[\u001b[0m\u001b[0;36m0\u001b[0m\u001b[0;34m]\u001b[0m\u001b[0;34m]\u001b[0m \u001b[0;34m=\u001b[0m \u001b[0mpd\u001b[0m\u001b[0;34m.\u001b[0m\u001b[0mDataFrame\u001b[0m\u001b[0;34m(\u001b[0m\u001b[0;34m)\u001b[0m\u001b[0;34m;\u001b[0m\u001b[0;34m\u001b[0m\u001b[0;34m\u001b[0m\u001b[0m\n\u001b[1;32m      4\u001b[0m \u001b[0;34m\u001b[0m\u001b[0m\n\u001b[0;32m----> 5\u001b[0;31m \u001b[0;32mfor\u001b[0m \u001b[0ms\u001b[0m \u001b[0;32min\u001b[0m \u001b[0mresults\u001b[0m\u001b[0;34m:\u001b[0m\u001b[0;34m\u001b[0m\u001b[0;34m\u001b[0m\u001b[0m\n\u001b[0m\u001b[1;32m      6\u001b[0m     \u001b[0;32mif\u001b[0m \u001b[0;32mnot\u001b[0m \u001b[0ms\u001b[0m \u001b[0;32mis\u001b[0m \u001b[0;32mNone\u001b[0m\u001b[0;34m:\u001b[0m \u001b[0;31m#Прове|рим, что объект существует\u001b[0m\u001b[0;34m\u001b[0m\u001b[0;34m\u001b[0m\u001b[0m\n\u001b[1;32m      7\u001b[0m         \u001b[0;32mif\u001b[0m \u001b[0mlen\u001b[0m\u001b[0;34m(\u001b[0m\u001b[0mdata_all\u001b[0m\u001b[0;34m[\u001b[0m\u001b[0murl_of_file\u001b[0m\u001b[0;34m[\u001b[0m\u001b[0ms\u001b[0m\u001b[0;34m[\u001b[0m\u001b[0;36m0\u001b[0m\u001b[0;34m]\u001b[0m\u001b[0;34m]\u001b[0m\u001b[0;34m]\u001b[0m\u001b[0;34m)\u001b[0m \u001b[0;34m==\u001b[0m \u001b[0;36m0\u001b[0m\u001b[0;34m:\u001b[0m\u001b[0;34m\u001b[0m\u001b[0;34m\u001b[0m\u001b[0m\n",
      "\u001b[0;31mNameError\u001b[0m: name 'results' is not defined"
     ]
    }
   ],
   "source": [
    "#Соберем данные в несколько фреймов\n",
    "data_all = {};\n",
    "for i in all_link: data_all[i[0]] = pd.DataFrame();\n",
    "    \n",
    "for s in results:\n",
    "    if not s is None: #Прове|рим, что объект существует\n",
    "        if len(data_all[url_of_file[s[0]]]) == 0:\n",
    "            data_all[url_of_file[s[0]]] = data_all[url_of_file[s[0]]].append(s[1]);\n",
    "        else:\n",
    "            #Объеденим всё. Дубликаты столбцов будут с суфикаксами\n",
    "            data_all[url_of_file[s[0]]] = pd.merge(data_all[url_of_file[s[0]]], s[1], how='outer', on='Дата', suffixes=('', '_delme'));\n",
    "                \n",
    "for fr_type in data_all.keys():\n",
    "    #Удалим дубликаты столбцов\n",
    "    suf_col = [x for x in data_all[fr_type].columns if '_delme' not in x];\n",
    "    #Добавим значения из колонок с суффиксами в колонки без суффиксов\n",
    "    for clear_col in suf_col:\n",
    "        all_col = [y for y in data_all[fr_type].columns if clear_col in y]\n",
    "        data_all[fr_type][clear_col] = data_all[fr_type][all_col].mean(1);\n",
    "        \n",
    "    #И удалим их\n",
    "    data_all[fr_type] = data_all[fr_type][suf_col];    "
   ]
  },
  {
   "cell_type": "markdown",
   "metadata": {},
   "source": [
    "# Страны"
   ]
  },
  {
   "cell_type": "code",
   "execution_count": null,
   "metadata": {},
   "outputs": [],
   "source": [
    "naming_dict = {'FI': 'Финляндия', 'LT': 'Литва', 'LV': 'Латвия', 'EE': 'Эстония',\n",
    "               'NO': 'Норвегия', 'SE': 'Швеция', 'DK': 'Дания',\n",
    "               'DE-LU': 'Германия', 'BE': 'Бельгия', 'AT': 'Австрия',\n",
    "               'FR': 'Франция',  'NL': 'Нидерланды', 'PL': 'Польша'};"
   ]
  },
  {
   "cell_type": "markdown",
   "metadata": {},
   "source": [
    "# Обработка цен"
   ]
  },
  {
   "cell_type": "code",
   "execution_count": null,
   "metadata": {},
   "outputs": [],
   "source": [
    "#Блок обработки входных данных\n",
    "col_obr = {'NO': ['Bergen', 'Kr.sand', 'Molde', 'Oslo', 'Tr.heim', 'TromsÃ¸'],\n",
    "           'DK': ['DK1', 'DK2'],\n",
    "           'SE': ['SE1', 'SE2', 'SE3', 'SE4']};"
   ]
  },
  {
   "cell_type": "code",
   "execution_count": null,
   "metadata": {},
   "outputs": [],
   "source": [
    "def form_price(fr):\n",
    "    \"\"\"\n",
    "    Функция для обработки данных по ценам.\n",
    "    На входе не обработанный фрейм, формат даты, признак почасовых данных.\n",
    "    На выходе фрейм\n",
    "    \"\"\"\n",
    "    fr.drop(columns=['SYS', 'ELE', 'FRE'], inplace=True, errors='ignore'); #Удалим лишнее\n",
    "    \n",
    "    #Обработаем названия-дубликаты\n",
    "    for reg in [i for i in fr.columns if '.' != i[-2]]:\n",
    "        col_reg = [i for i in fr.columns if reg in i];\n",
    "        fr[reg] = fr[col_reg].mean(1);\n",
    "        col_reg.remove(reg)\n",
    "        fr.drop(columns=col_reg, inplace=True);\n",
    "        \n",
    "    #Обработаем страны, разделенные на несколько ценовых зон\n",
    "    for part_reg in ['SE', 'DK']:\n",
    "        col_part = [part_reg+str(i) for i in range(1,10)];\n",
    "        col_part = [i for i in col_part if i in fr.columns];\n",
    "        fr[part_reg] = fr[col_part].mean(1);\n",
    "        fr.drop(columns=col_part, inplace=True);\n",
    "    \n",
    "    #Обработаем регионы Норвегии\n",
    "    no_reg = ['Bergen', 'Kr.sand', 'Molde', 'Oslo', 'Tr.heim', 'TromsÃ¸'];\n",
    "    fr['NO'] = fr[no_reg].mean(1);\n",
    "    fr.drop(columns=no_reg, inplace=True);\n",
    "    \n",
    "    #Переведем всё на русский\n",
    "    fr.rename(columns=naming_dict, inplace=True);\n",
    "    fr = fr[[i for i in naming_dict.values() if i in fr.columns]];\n",
    "    return fr"
   ]
  },
  {
   "cell_type": "markdown",
   "metadata": {},
   "source": [
    "#### Почасовые цены"
   ]
  },
  {
   "cell_type": "code",
   "execution_count": null,
   "metadata": {},
   "outputs": [],
   "source": [
    "data_all['price_hour_data'] = form_price(data_all['price_hour_data']);\n",
    "#Группировка нужна, чтобы избавиться от дубликатов при переходе с зимнего времени на летнее и наоборот\n",
    "data_all['price_hour_data'] = data_all['price_hour_data'].groupby(data_all['price_hour_data'].index).agg('first');\n",
    "#По причине смена зимнего-летнего времени заполним данные\n",
    "#Сделаем это только для предыдущего периода\n",
    "data_all['price_hour_data'].loc[:l_day] = data_all['price_hour_data'].loc[:l_day].ffill();\n",
    "data_all['price_hour_data']"
   ]
  },
  {
   "cell_type": "markdown",
   "metadata": {},
   "source": [
    "#### Посуточные цены"
   ]
  },
  {
   "cell_type": "code",
   "execution_count": null,
   "metadata": {},
   "outputs": [],
   "source": [
    "data_all['price_day_data'] = form_price(data_all['price_day_data']);\n",
    "data_all['price_day_data']"
   ]
  },
  {
   "cell_type": "markdown",
   "metadata": {},
   "source": [
    "#### Помесячные цены"
   ]
  },
  {
   "cell_type": "code",
   "execution_count": null,
   "metadata": {},
   "outputs": [],
   "source": [
    "data_all['price_month_data'] = form_price(data_all['price_month_data']); #дата в помесячных данных ГГ - ММ\n",
    "data_all['price_month_data']"
   ]
  },
  {
   "cell_type": "markdown",
   "metadata": {},
   "source": [
    "# Обработка объемов купли-продажи"
   ]
  },
  {
   "cell_type": "code",
   "execution_count": null,
   "metadata": {},
   "outputs": [],
   "source": [
    "def form_volume(fr):\n",
    "    \"\"\"\n",
    "    Функция для обработки данных по объемам покупки.\n",
    "    На входе не обработанный фрейм, формат даты, признак почасовых данных.\n",
    "    На выходе фрейм\n",
    "    \"\"\"    \n",
    "    fr.drop(columns=['Turnover at system price', 'ELE Buy', 'ELE Sell',\n",
    "                     'FRE Buy', 'FRE Sell', 'SE', 'DK'], inplace=True, errors='ignore'); #Удалим лишнее\n",
    "    \n",
    "    for code in ['FI', 'EE', 'LT', 'LV', 'NO', 'SE', 'DK']:\n",
    "        code_col = [i for i in fr.columns if 'buy' in i.lower() and code==i[:2]]; #Обработаем только цены покупки\n",
    "        other_col = [i for i in fr.columns if ('buy' in i.lower() or 'sell' in i.lower()) and code==i[:2]]; #Продажи\n",
    "        fr[code] = fr[code_col].sum(axis=1);\n",
    "        fr.drop(columns=other_col, inplace=True);\n",
    "    \n",
    "    #Переведем всё на русский\n",
    "    fr.rename(columns=naming_dict, inplace=True);\n",
    "    fr = fr[[i for i in naming_dict.values() if i in fr.columns]];\n",
    "    return fr"
   ]
  },
  {
   "cell_type": "markdown",
   "metadata": {},
   "source": [
    "#### Почасовые объемы купли-продажи, млн.кВтч"
   ]
  },
  {
   "cell_type": "code",
   "execution_count": null,
   "metadata": {},
   "outputs": [],
   "source": [
    "data_all['volume_hour_data'] = form_volume(data_all['volume_hour_data']).applymap(lambda x: np.NaN if x==0 else x)/1000;\n",
    "#Группировка нужна, чтобы избавиться от дубликатов при переходе с зимнего времени на летнее и наоборот\n",
    "data_all['volume_hour_data'] = data_all['volume_hour_data'].groupby(data_all['volume_hour_data'].index).agg('first');\n",
    "#По причине смена зимнего-летнего времени заполним данные\n",
    "#Сделаем это только для предыдущего периода\n",
    "data_all['volume_hour_data'].loc[:l_day] = data_all['volume_hour_data'].loc[:l_day].ffill();\n",
    "data_all['volume_hour_data']"
   ]
  },
  {
   "cell_type": "markdown",
   "metadata": {},
   "source": [
    "#### Посуточные объемы купли-продажи, млн.кВтч"
   ]
  },
  {
   "cell_type": "code",
   "execution_count": null,
   "metadata": {},
   "outputs": [],
   "source": [
    "data_all['volume_day_data'] = form_volume(data_all['volume_day_data']).applymap(lambda x: np.NaN if x==0 else x)/1000;\n",
    "data_all['volume_day_data']"
   ]
  },
  {
   "cell_type": "markdown",
   "metadata": {},
   "source": [
    "#### Помесячные объемы купли-продажи, млн.кВтч"
   ]
  },
  {
   "cell_type": "code",
   "execution_count": null,
   "metadata": {},
   "outputs": [],
   "source": [
    "#Видно, что почасовые данные посуточными\n",
    "data_all['volume_hour_data'].groupby(data_all['volume_hour_data'].index.astype(str).str[:10]).sum()"
   ]
  },
  {
   "cell_type": "code",
   "execution_count": null,
   "metadata": {},
   "outputs": [],
   "source": [
    "data_all['volume_month_data'] = data_all['volume_hour_data'].groupby(data_all['volume_hour_data'].index.astype(str).str[:7]).sum();\n",
    "data_all['volume_month_data'].index = pd.to_datetime(data_all['volume_month_data'].index, format='%Y-%m');\n",
    "data_all['volume_month_data']"
   ]
  },
  {
   "cell_type": "markdown",
   "metadata": {},
   "source": [
    "# Обработка перетока"
   ]
  },
  {
   "cell_type": "code",
   "execution_count": null,
   "metadata": {},
   "outputs": [],
   "source": [
    "def form_exchange(fr):\n",
    "    \"\"\"\n",
    "    Функция для обработки данных по перетокам.\n",
    "    На входе не обработанный фрейм, формат даты, признак почасовых данных.\n",
    "    На выходе фрейм\n",
    "    \"\"\"    \n",
    "    exc_col = [i for i in fr.columns if 'RU' in i];\n",
    "    fr = fr[exc_col];\n",
    "    col_new_name = {i: i[:2] for i in fr.columns};\n",
    "    fr = fr.rename(columns=col_new_name);\n",
    "    \n",
    "    #Переведем всё на русский\n",
    "    fr.rename(columns=naming_dict, inplace=True);\n",
    "    fr = fr[[i for i in naming_dict.values() if i in fr.columns]];\n",
    "    return fr"
   ]
  },
  {
   "cell_type": "markdown",
   "metadata": {},
   "source": [
    "#### Почасовый перток, МВт"
   ]
  },
  {
   "cell_type": "code",
   "execution_count": null,
   "metadata": {},
   "outputs": [],
   "source": [
    "data_all['exc_hour_data'] = form_exchange(data_all['exc_hour_data']);\n",
    "#Группировка нужна, чтобы избавиться от дубликатов при переходе с зимнего времени на летнее и наоборот\n",
    "data_all['exc_hour_data'] = data_all['exc_hour_data'].groupby(data_all['exc_hour_data'].index).agg('first');\n",
    "#По причине смена зимнего-летнего времени заполним данные\n",
    "#Сделаем это только для предыдущего периода\n",
    "data_all['exc_hour_data'].loc[:l_day] = data_all['exc_hour_data'].loc[:l_day].ffill();\n",
    "\n",
    "data_all['exc_hour_data']['NordPool'] = data_all['exc_hour_data'].sum(1);\n",
    "data_all['exc_hour_data']"
   ]
  },
  {
   "cell_type": "markdown",
   "metadata": {},
   "source": [
    "#### Посуточный перток, МВт"
   ]
  },
  {
   "cell_type": "code",
   "execution_count": null,
   "metadata": {},
   "outputs": [],
   "source": [
    "data_all['exc_day_data'] = form_exchange(data_all['exc_day_data'])/24;\n",
    "\n",
    "data_all['exc_day_data']['NordPool'] = data_all['exc_day_data'].sum(1);\n",
    "data_all['exc_day_data']"
   ]
  },
  {
   "cell_type": "code",
   "execution_count": null,
   "metadata": {},
   "outputs": [],
   "source": [
    "#Видно, что почасовые данные по перетоку совпадают с посуточными\n",
    "#Будем использовать почасовые, так как данных больше\n",
    "data_all['exc_hour_data'].groupby(data_all['exc_hour_data'].index.astype(str).str[:10]).mean()"
   ]
  },
  {
   "cell_type": "code",
   "execution_count": null,
   "metadata": {},
   "outputs": [],
   "source": [
    "data_all['exc_day_data'] = data_all['exc_hour_data'].groupby(data_all['exc_hour_data'].index.astype(str).str[:10]).mean();\n",
    "data_all['exc_day_data'].index = pd.to_datetime(data_all['exc_day_data'].index, format='%Y-%m-%d');\n",
    "data_all['exc_day_data']"
   ]
  },
  {
   "cell_type": "markdown",
   "metadata": {},
   "source": [
    "#### Помесячный перток, МВт"
   ]
  },
  {
   "cell_type": "code",
   "execution_count": null,
   "metadata": {},
   "outputs": [],
   "source": [
    "data_all['exc_month_data'] = data_all['exc_hour_data'].groupby(data_all['exc_hour_data'].index.astype(str).str[:7]).mean();\n",
    "data_all['exc_month_data'].index = pd.to_datetime(data_all['exc_month_data'].index, format='%Y-%m');\n",
    "data_all['exc_month_data']"
   ]
  },
  {
   "cell_type": "markdown",
   "metadata": {},
   "source": [
    "# Получение помесячной цены за последний месяц"
   ]
  },
  {
   "cell_type": "code",
   "execution_count": null,
   "metadata": {},
   "outputs": [],
   "source": [
    "month_price_calc = pd.concat([data_all['price_day_data'],\n",
    "           data_all['volume_day_data']], keys=['Цена', 'Объем'], axis=1)\n",
    "month_price_calc"
   ]
  },
  {
   "cell_type": "code",
   "execution_count": null,
   "metadata": {},
   "outputs": [],
   "source": [
    "col_exsist = month_price_calc['Объем'].columns\n",
    "small_price = month_price_calc.loc[:, (slice(None), col_exsist)].copy(deep=True)\n",
    "\n",
    "for i in col_exsist:\n",
    "    small_price[('Стоимость', i)] = small_price[('Цена', i)] * small_price[('Объем', i)];\n",
    "    \n",
    "small_price_gr = small_price.groupby(small_price.index.astype(str).str[:7]).sum();\n",
    "\n",
    "for i in col_exsist:\n",
    "    small_price_gr[('Цена', i)] = small_price_gr[('Стоимость', i)] / small_price_gr[('Объем', i)];\n",
    "\n",
    "small_price_gr.index = pd.to_datetime(small_price_gr.index, format='%Y-%m');\n",
    "small_price_gr"
   ]
  },
  {
   "cell_type": "code",
   "execution_count": null,
   "metadata": {},
   "outputs": [],
   "source": [
    "#Заполним данные по цене за текущий месяц\n",
    "idx_nan = data_all['price_month_data'].index.max();\n",
    "#Если данных нет, то выполним заполнение\n",
    "if data_all['price_month_data'].loc[idx_nan].isna().any():\n",
    "    for country in small_price_gr['Цена'].columns:\n",
    "        data_all['price_month_data'].loc[idx_nan, country] = small_price_gr.loc[idx_nan, ('Цена', country)];\n",
    "\n",
    "data_all['price_month_data']"
   ]
  },
  {
   "cell_type": "markdown",
   "metadata": {},
   "source": [
    "# Сбор данных вместе"
   ]
  },
  {
   "cell_type": "markdown",
   "metadata": {},
   "source": [
    "### Почасовые данные"
   ]
  },
  {
   "cell_type": "code",
   "execution_count": null,
   "metadata": {},
   "outputs": [],
   "source": [
    "hour_data = pd.concat([data_all['price_hour_data'],\n",
    "                       data_all['volume_hour_data'],\n",
    "                       data_all['exc_hour_data']\n",
    "                      ], keys=['Цена', 'Объем', 'Переток'], axis=1);\n",
    "\n",
    "hour_data"
   ]
  },
  {
   "cell_type": "markdown",
   "metadata": {},
   "source": [
    "### Посуточные данные"
   ]
  },
  {
   "cell_type": "code",
   "execution_count": null,
   "metadata": {},
   "outputs": [],
   "source": [
    "day_data = pd.concat([data_all['price_day_data'],\n",
    "                      data_all['volume_day_data'],\n",
    "                      data_all['exc_day_data'],\n",
    "                      nasdaq_day.loc[data_all['price_day_data'].index.max():]\n",
    "                     ], keys=['Цена', 'Объем', 'Переток', 'Nasdaq'], axis=1);\n",
    "\n",
    "day_data.loc[data_all['price_day_data'].index.max(), ('Nasdaq', 'Nasdaq')] = day_data.loc[data_all['price_day_data'].index.max(), ('Цена', 'Финляндия')];\n",
    "day_data"
   ]
  },
  {
   "cell_type": "markdown",
   "metadata": {},
   "source": [
    "### Помесячные данные"
   ]
  },
  {
   "cell_type": "code",
   "execution_count": null,
   "metadata": {},
   "outputs": [],
   "source": [
    "month_data = pd.concat([data_all['price_month_data'],\n",
    "                       data_all['volume_month_data'],\n",
    "                       data_all['exc_month_data'],\n",
    "                       nasdaq_futures\n",
    "                      ], keys=['Цена', 'Объем', 'Переток', 'Nasdaq'], axis=1);\n",
    "\n",
    "month_data"
   ]
  },
  {
   "cell_type": "markdown",
   "metadata": {},
   "source": [
    "# Сохраним результаты"
   ]
  },
  {
   "cell_type": "code",
   "execution_count": null,
   "metadata": {},
   "outputs": [],
   "source": [
    "#В эксель\n",
    "with pd.ExcelWriter(path_korn + '/Clear data/All_data.xlsx') as writer:\n",
    "    hour_data.to_excel(writer, sheet_name='Час');\n",
    "    day_data.to_excel(writer, sheet_name='День');\n",
    "    month_data.to_excel(writer, sheet_name='Месяц');\n",
    "\n",
    "#В пиклу\n",
    "saveObject = (hour_data, day_data, month_data)\n",
    "with open(path_korn + '/Clear data/All_data.pickle', 'wb') as f:\n",
    "    pickle.dump(saveObject, f);"
   ]
  },
  {
   "cell_type": "code",
   "execution_count": null,
   "metadata": {},
   "outputs": [],
   "source": []
  }
 ],
 "metadata": {
  "kernelspec": {
   "display_name": "Python 3",
   "language": "python",
   "name": "python3"
  },
  "language_info": {
   "codemirror_mode": {
    "name": "ipython",
    "version": 3
   },
   "file_extension": ".py",
   "mimetype": "text/x-python",
   "name": "python",
   "nbconvert_exporter": "python",
   "pygments_lexer": "ipython3",
   "version": "3.6.9"
  }
 },
 "nbformat": 4,
 "nbformat_minor": 4
}
